{
 "cells": [
  {
   "cell_type": "markdown",
   "id": "d605415a",
   "metadata": {},
   "source": [
    "# Code for processing Lagrangian dFAD metrics\n",
    "#### Output\n",
    "This code processes the raw output of the parcels simulations (>20GB) into several metrics.\n",
    "These metrics are subsequently stored in .nc files with the shape (longitude, latitude, drop_time), which provides the monthly average of each metric per drop location. The mean value is calculated and stored in a separate outputfile.\n",
    "\n",
    "The calculated metrics are:\n",
    "- Displacement (dist_list)\n",
    "- Travel distance (dist_trav_list)\n",
    "- Distance ratio (eddy_list)\n",
    "- loopiness (loop_list)\n",
    "\n",
    "#### Code structure\n",
    "The code is roughly structured in 3 parts, which are divided over multiple cells:\n",
    "1) loading data set\n",
    "2) calculating metrics\n",
    "3) output metrics"
   ]
  },
  {
   "cell_type": "code",
   "execution_count": 1,
   "id": "935306a1",
   "metadata": {},
   "outputs": [],
   "source": [
    "#import modules\n",
    "import xarray as xr\n",
    "import numpy as np\n",
    "from datetime import timedelta as delta\n",
    "import pandas as pd"
   ]
  },
  {
   "cell_type": "code",
   "execution_count": 2,
   "id": "5aad7b9e",
   "metadata": {},
   "outputs": [],
   "source": [
    "#Dataset parameters\n",
    "path = \"C:/Users/FrankemollePFVW/Downloads/dFAD_data/\"\n",
    "particletype = 'surface' # choose either 'surface' or 'depth' to load different datasets\n",
    "\n",
    "xmin,xmax = 140, 285 # minimum/maximum longitude (default = 140, 285)\n",
    "ymin,ymax = -15, 15  # minimum/maximum latitude  (default = -15, 15)\n",
    "end_time = 30        # particle travel time (default = 30 days)\n",
    "lenX,lenY = 291,61   # gridsize in longitudinal, latitudinal direction (default = 291,61)\n",
    "\n",
    "data =xr.open_zarr(path + '20062021' + particletype + '_wholepacific.zarr')\n",
    "\n",
    "lat = data['lat'].values\n",
    "#lat = np.delete(lat, np.s_[end_time:-1], 1)\n",
    "#lon = data['lon'].values\n",
    "#lon = np.delete(lon, np.s_[end_time:-1], 1)\n",
    "#time = data['time'].values.astype('datetime64[D]')\n",
    "#t = np.arange('2006-11', '2022-01', dtype='datetime64[D]') #runtime of dataset\n",
    "#t = t[:int(M*10):10] #particle release dates"
   ]
  },
  {
   "cell_type": "code",
   "execution_count": 12,
   "id": "27a6405a",
   "metadata": {},
   "outputs": [
    {
     "data": {
      "text/plain": [
       "9834054"
      ]
     },
     "execution_count": 12,
     "metadata": {},
     "output_type": "execute_result"
    }
   ],
   "source": [
    "\n",
    "np.sum(lat[:,0] > -90)\n"
   ]
  },
  {
   "cell_type": "code",
   "execution_count": null,
   "id": "099eef43",
   "metadata": {},
   "outputs": [],
   "source": []
  },
  {
   "cell_type": "code",
   "execution_count": 3,
   "id": "1de9e488",
   "metadata": {},
   "outputs": [],
   "source": [
    "#Creating the particle grid (unneccesary?)\n",
    "lonEEZ = np.linspace(xmin,xmax,num = lenX)\n",
    "latEEZ = np.linspace(ymin,ymax, num = lenY)\n",
    "latlist,lonlist = np.reshape(latEEZ,-1),np.reshape(lonEEZ,-1)\n",
    "lonEEZ = (lonEEZ[1:] + lonEEZ[:-1])/2 #has to be in center of gridboxes...\n",
    "latEEZ = (latEEZ[1:] + latEEZ[:-1])/2\n",
    "\n",
    "#lon[lon<0] = lon[lon<0]+360\n",
    "\n",
    "#lat_i_a=np.digitize(lat,latEEZ)\n",
    "#lon_i_a=np.digitize(lon,lonEEZ)"
   ]
  },
  {
   "cell_type": "code",
   "execution_count": 4,
   "id": "a95ce2c4",
   "metadata": {},
   "outputs": [],
   "source": [
    "#Displacement distance\n",
    "loc = np.array([lon[:,0],lat[:,0],lon[:,end_time-1],lat[:,end_time-1]])\n",
    "loc[loc>180] = loc[loc>180] - 360\n",
    "loc = loc*np.pi/180\n",
    "\n",
    "dlon = loc[0,:] - loc[2,:]\n",
    "dlat = loc[1,:] - loc[3,:]\n",
    "\n",
    "a = np.sin(dlat/2)**2 + np.cos(loc[1,:]) * np.cos(loc[3,:]) * np.sin(dlon/2)**2\n",
    "c = 2 * np.arcsin(np.sqrt(a)) \n",
    "r = 6371 # Radius of earth in kilometers. Use 3956 for miles. Determines return value units.\n",
    "dist_list = c*r"
   ]
  },
  {
   "cell_type": "code",
   "execution_count": 5,
   "id": "20d84aca",
   "metadata": {},
   "outputs": [],
   "source": [
    "#total travel distance\n",
    "dist_trav_list = np.zeros(len(lon)) #create empty array of zeros\n",
    "for i in range(end_time-1): \n",
    "    dlon = (lon[:,i] - lon[:,i+1])*np.pi/180\n",
    "    dlat = (lat[:,i] - lat[:,i+1])*np.pi/180\n",
    "    a = np.sin(dlat/2)**2 + np.cos(lat[:,i+1]*np.pi/180) * np.cos(lat[:,i]*np.pi/180) * np.sin(dlon/2)**2\n",
    "\n",
    "    c = 2 * np.arcsin(np.sqrt(a)) \n",
    "    dist_trav_list += c*r\n",
    "\n",
    "#Free up some memory by deleting variables    \n",
    "#del a\n",
    "#del dlon\n",
    "#del dlat\n",
    "#del c"
   ]
  },
  {
   "cell_type": "code",
   "execution_count": 6,
   "id": "1f82f00a",
   "metadata": {},
   "outputs": [
    {
     "name": "stderr",
     "output_type": "stream",
     "text": [
      "C:\\Users\\FrankemollePFVW\\AppData\\Local\\Temp\\ipykernel_15964\\1476333259.py:2: RuntimeWarning: invalid value encountered in divide\n",
      "  eddy_list = dist_list/dist_trav_list\n"
     ]
    }
   ],
   "source": [
    "# distance ratio\n",
    "eddy_list = dist_list/dist_trav_list"
   ]
  },
  {
   "cell_type": "code",
   "execution_count": 7,
   "id": "a9367c95",
   "metadata": {},
   "outputs": [],
   "source": [
    "# loopiness\n",
    "#Formula for Bearing (angle between two points)\n",
    "#according to: https://www.igismap.com/formula-to-find-bearing-or-heading-angle-between-two-points-latitude-longitude/\n",
    "dlonloop = (lon[:,1:end_time] - lon[:,:end_time-1])*np.pi/180\n",
    "\n",
    "Xloop = np.cos(lat[:,1:end_time]*np.pi/180)*np.sin(dlonloop)\n",
    "Yloop = np.cos(lat[:,:end_time-1]*np.pi/180)*np.sin(lat[:,1:end_time]*np.pi/180) -  np.cos(lat[:,1:end_time]*np.pi/180)*np.sin(lat[:,:end_time-1]*np.pi/180)*np.cos(dlonloop)\n",
    "del dlonloop\n",
    "\n",
    "bear_list = np.arctan2(Xloop,Yloop) #list of bearings between each point \n",
    "del Xloop\n",
    "del Yloop\n",
    "#calculate angle differences from bearings\n",
    "anglediff_list = bear_list[:,1:] - bear_list[:,:-1]\n",
    "#change the domain of values to [+pi,-pi]\n",
    "anglediff_list[anglediff_list > np.pi] += - 2*np.pi\n",
    "anglediff_list[anglediff_list <= -np.pi] +=  2*np.pi\n",
    "\n",
    "#Find loopiness by taking the sum of all angle differences\n",
    "loop_list = np.sum(anglediff_list, axis = 1)\n",
    "\n",
    "#del bear_list\n",
    "#del anglediff_list"
   ]
  },
  {
   "cell_type": "code",
   "execution_count": 8,
   "id": "09142db8",
   "metadata": {},
   "outputs": [],
   "source": [
    "M= int(len(lon[:,0])/(lenY*lenX) - 18) #amount of particle releases in the data\n",
    "N= int(lenY*lenX)                      #amount of particles per release time\n",
    "#del lat\n",
    "#del lon\n",
    "\n",
    "#Rearranging the dataset to [timeseries of metric, drop location]\n",
    "dist_cell = np.zeros([M,N])\n",
    "dist_trav_cell = np.zeros([M,N])\n",
    "eddy_cell = np.zeros([M,N])\n",
    "loop_cell = np.zeros([M,N])\n",
    "\n",
    "for i in range(N):\n",
    "    dist_cell[:,i]      = dist_list[i:-N*18:N]\n",
    "    dist_trav_cell[:,i] = dist_trav_list[i:-N*18:N]\n",
    "    eddy_cell[:,i]      = eddy_list[i:-N*18:N]\n",
    "    loop_cell[:,i]      = loop_list[i:-N*18:N]\n",
    "\n",
    "del dist_list\n",
    "del dist_trav_list\n",
    "del eddy_list\n",
    "del loop_list\n",
    "\n",
    "#transform back statistic = np.reshape(statanalysis[:,0], (lenX,lenY)) how to transform \n"
   ]
  },
  {
   "cell_type": "code",
   "execution_count": 9,
   "id": "9d6b89c7",
   "metadata": {},
   "outputs": [],
   "source": [
    "t = np.arange('2006-11', '2022-01', dtype='datetime64[D]') #runtime of dataset\n",
    "t = t[:int(M*10):10] #particle release dates\n",
    "dist = xr.Dataset(\n",
    "    {\"displacement\": ((\"releasetime\", \"loc\"), dist_cell)},\n",
    "    coords={\n",
    "        \"releasetime\": t,\n",
    "        \"loc\": np.linspace(1,N,num=N),\n",
    "        #\"z\": (\"x\", list(\"abcd\")),\n",
    "    },\n",
    ")\n",
    "\n",
    "\n",
    "dist.to_netcdf(\"dFAD_displacement_\" + particletype + \"_raw.nc\")"
   ]
  },
  {
   "cell_type": "code",
   "execution_count": 10,
   "id": "89570f78",
   "metadata": {},
   "outputs": [],
   "source": [
    "dist_trav = xr.Dataset(\n",
    "    {\"traveldistance\": ((\"releasetime\", \"loc\"), dist_trav_cell)},\n",
    "    coords={\n",
    "        \"releasetime\": t,\n",
    "        \"loc\": np.linspace(1,N,num=N),\n",
    "        #\"z\": (\"x\", list(\"abcd\")),\n",
    "    },\n",
    ")\n",
    "dist_trav.to_netcdf(\"dFAD_traveldistance_\" + particletype + \"_raw.nc\")"
   ]
  },
  {
   "cell_type": "code",
   "execution_count": 11,
   "id": "2feae703",
   "metadata": {},
   "outputs": [],
   "source": [
    "eddy = xr.Dataset(\n",
    "    {\"distanceratio\": ((\"releasetime\", \"loc\"), eddy_cell)},\n",
    "    coords={\n",
    "        \"releasetime\": t,\n",
    "        \"loc\": np.linspace(1,N,num=N),\n",
    "        #\"z\": (\"x\", list(\"abcd\")),\n",
    "    },\n",
    ")\n",
    "eddy.to_netcdf(\"dFAD_distanceratio_\" + particletype + \"_raw.nc\")"
   ]
  },
  {
   "cell_type": "code",
   "execution_count": 12,
   "id": "11140d6b",
   "metadata": {},
   "outputs": [],
   "source": [
    "loop = xr.Dataset(\n",
    "    {\"loopiness\": ((\"releasetime\", \"loc\"), loop_cell)},\n",
    "    coords={\n",
    "        \"releasetime\": t,\n",
    "        \"loc\": np.linspace(1,N,num=N),\n",
    "        #\"z\": (\"x\", list(\"abcd\")),\n",
    "    },\n",
    ")\n",
    "loop.to_netcdf(\"dFAD_loopiness_\" + particletype + \"_raw.nc\")"
   ]
  },
  {
   "cell_type": "code",
   "execution_count": 13,
   "id": "a7e87844",
   "metadata": {},
   "outputs": [],
   "source": [
    "del lat\n",
    "del lon"
   ]
  },
  {
   "cell_type": "code",
   "execution_count": null,
   "id": "62e0f717",
   "metadata": {},
   "outputs": [],
   "source": []
  }
 ],
 "metadata": {
  "kernelspec": {
   "display_name": "Python 3 (ipykernel)",
   "language": "python",
   "name": "python3"
  },
  "language_info": {
   "codemirror_mode": {
    "name": "ipython",
    "version": 3
   },
   "file_extension": ".py",
   "mimetype": "text/x-python",
   "name": "python",
   "nbconvert_exporter": "python",
   "pygments_lexer": "ipython3",
   "version": "3.9.16"
  }
 },
 "nbformat": 4,
 "nbformat_minor": 5
}
